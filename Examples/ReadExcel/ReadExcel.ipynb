{
 "cells": [
  {
   "cell_type": "markdown",
   "metadata": {},
   "source": [
    "## Read all the worksheets in a workbook\n"
   ]
  },
  {
   "cell_type": "code",
   "execution_count": null,
   "metadata": {
    "dotnet_interactive": {
     "language": "pwsh"
    },
    "vscode": {
     "languageId": "dotnet-interactive.pwsh"
    }
   },
   "outputs": [],
   "source": [
    "$result = Read-Excel .\\yearlySales.xlsx\n",
    "\n",
    "$result | Group-Object month -NoElement\n",
    "\"Total rows=\" + $result.Count"
   ]
  },
  {
   "cell_type": "markdown",
   "metadata": {},
   "source": [
    "## Read specific worksheets in a workbook"
   ]
  },
  {
   "cell_type": "code",
   "execution_count": null,
   "metadata": {
    "dotnet_interactive": {
     "language": "pwsh"
    },
    "vscode": {
     "languageId": "dotnet-interactive.pwsh"
    }
   },
   "outputs": [],
   "source": [
    "$result = Read-Excel .\\yearlySales.xlsx August, October\n",
    "\n",
    "$result | Group-Object month\n",
    "\"Total rows=\" + $result.Count"
   ]
  },
  {
   "cell_type": "markdown",
   "metadata": {},
   "source": [
    "## Read all the xlsx files in the salesData folder"
   ]
  },
  {
   "cell_type": "code",
   "execution_count": null,
   "metadata": {
    "dotnet_interactive": {
     "language": "pwsh"
    },
    "vscode": {
     "languageId": "dotnet-interactive.pwsh"
    }
   },
   "outputs": [],
   "source": [
    "$result = Get-ChildItem .\\salesData | Read-Excel\n",
    "\n",
    "$result | Group-Object month\n",
    "\"Total rows=\" + $result.Count"
   ]
  },
  {
   "cell_type": "markdown",
   "metadata": {},
   "source": [
    "## Read all sheets from Excel file into a hash table"
   ]
  },
  {
   "cell_type": "code",
   "execution_count": null,
   "metadata": {
    "dotnet_interactive": {
     "language": "pwsh"
    },
    "vscode": {
     "languageId": "dotnet-interactive.pwsh"
    }
   },
   "outputs": [],
   "source": [
    "Read-Excel .\\yearlySales.xlsx -AsHashtable"
   ]
  },
  {
   "cell_type": "code",
   "execution_count": null,
   "metadata": {
    "dotnet_interactive": {
     "language": "pwsh"
    },
    "vscode": {
     "languageId": "dotnet-interactive.pwsh"
    }
   },
   "outputs": [
    {
     "name": "stdout",
     "output_type": "stream",
     "text": [
      "\u001b[91mImport-Excel: \u001b[0mD:\\OneDrive\\Documents\\PowerShell\\Modules\\ImportExcel\\Public\\Read-Excel.ps1:64\r\n",
      "\u001b[96mLine |\r\n",
      "\u001b[96m  64 | \u001b[0m …     $result = \u001b[96mImport-Excel -WorksheetName $sheetname @boundParameters\u001b[0m\r\n",
      "\u001b[96m     | \u001b[91m                 ~~~~~~~~~~~~~~~~~~~~~~~~~~~~~~~~~~~~~~~~~~~~~~~~~~~~~~~\r\n",
      "\u001b[91m\u001b[96m     | \u001b[91mParameter set cannot be resolved using the specified named parameters. One or more\r\n",
      "\u001b[96m     | \u001b[91mparameters issued cannot be used together or an insufficient number of parameters\r\n",
      "\u001b[96m     | \u001b[91mwere provided.\r\n",
      "\u001b[0m\r\n",
      "\u001b[91mImport-Excel: \u001b[0mD:\\OneDrive\\Documents\\PowerShell\\Modules\\ImportExcel\\Public\\Read-Excel.ps1:64\r\n",
      "\u001b[96mLine |\r\n",
      "\u001b[96m  64 | \u001b[0m …     $result = \u001b[96mImport-Excel -WorksheetName $sheetname @boundParameters\u001b[0m\r\n",
      "\u001b[96m     | \u001b[91m                 ~~~~~~~~~~~~~~~~~~~~~~~~~~~~~~~~~~~~~~~~~~~~~~~~~~~~~~~\r\n",
      "\u001b[91m\u001b[96m     | \u001b[91mParameter set cannot be resolved using the specified named parameters. One or more\r\n",
      "\u001b[96m     | \u001b[91mparameters issued cannot be used together or an insufficient number of parameters\r\n",
      "\u001b[96m     | \u001b[91mwere provided.\r\n",
      "\u001b[0m\r\n",
      "\u001b[91mImport-Excel: \u001b[0mD:\\OneDrive\\Documents\\PowerShell\\Modules\\ImportExcel\\Public\\Read-Excel.ps1:64\r\n",
      "\u001b[96mLine |\r\n",
      "\u001b[96m  64 | \u001b[0m …     $result = \u001b[96mImport-Excel -WorksheetName $sheetname @boundParameters\u001b[0m\r\n",
      "\u001b[96m     | \u001b[91m                 ~~~~~~~~~~~~~~~~~~~~~~~~~~~~~~~~~~~~~~~~~~~~~~~~~~~~~~~\r\n",
      "\u001b[91m\u001b[96m     | \u001b[91mParameter set cannot be resolved using the specified named parameters. One or more\r\n",
      "\u001b[96m     | \u001b[91mparameters issued cannot be used together or an insufficient number of parameters\r\n",
      "\u001b[96m     | \u001b[91mwere provided.\r\n",
      "\u001b[0m\r\n",
      "\u001b[91mImport-Excel: \u001b[0mD:\\OneDrive\\Documents\\PowerShell\\Modules\\ImportExcel\\Public\\Read-Excel.ps1:64\r\n",
      "\u001b[96mLine |\r\n",
      "\u001b[96m  64 | \u001b[0m …     $result = \u001b[96mImport-Excel -WorksheetName $sheetname @boundParameters\u001b[0m\r\n",
      "\u001b[96m     | \u001b[91m                 ~~~~~~~~~~~~~~~~~~~~~~~~~~~~~~~~~~~~~~~~~~~~~~~~~~~~~~~\r\n",
      "\u001b[91m\u001b[96m     | \u001b[91mParameter set cannot be resolved using the specified named parameters. One or more\r\n",
      "\u001b[96m     | \u001b[91mparameters issued cannot be used together or an insufficient number of parameters\r\n",
      "\u001b[96m     | \u001b[91mwere provided.\r\n",
      "\u001b[0m\r\n",
      "\u001b[91mImport-Excel: \u001b[0mD:\\OneDrive\\Documents\\PowerShell\\Modules\\ImportExcel\\Public\\Read-Excel.ps1:64\r\n",
      "\u001b[96mLine |\r\n",
      "\u001b[96m  64 | \u001b[0m …     $result = \u001b[96mImport-Excel -WorksheetName $sheetname @boundParameters\u001b[0m\r\n",
      "\u001b[96m     | \u001b[91m                 ~~~~~~~~~~~~~~~~~~~~~~~~~~~~~~~~~~~~~~~~~~~~~~~~~~~~~~~\r\n",
      "\u001b[91m\u001b[96m     | \u001b[91mParameter set cannot be resolved using the specified named parameters. One or more\r\n",
      "\u001b[96m     | \u001b[91mparameters issued cannot be used together or an insufficient number of parameters\r\n",
      "\u001b[96m     | \u001b[91mwere provided.\r\n",
      "\u001b[0m\r\n",
      "\u001b[91mImport-Excel: \u001b[0mD:\\OneDrive\\Documents\\PowerShell\\Modules\\ImportExcel\\Public\\Read-Excel.ps1:64\r\n",
      "\u001b[96mLine |\r\n",
      "\u001b[96m  64 | \u001b[0m …     $result = \u001b[96mImport-Excel -WorksheetName $sheetname @boundParameters\u001b[0m\r\n",
      "\u001b[96m     | \u001b[91m                 ~~~~~~~~~~~~~~~~~~~~~~~~~~~~~~~~~~~~~~~~~~~~~~~~~~~~~~~\r\n",
      "\u001b[91m\u001b[96m     | \u001b[91mParameter set cannot be resolved using the specified named parameters. One or more\r\n",
      "\u001b[96m     | \u001b[91mparameters issued cannot be used together or an insufficient number of parameters\r\n",
      "\u001b[96m     | \u001b[91mwere provided.\r\n",
      "\u001b[0m\r\n",
      "\u001b[91mImport-Excel: \u001b[0mD:\\OneDrive\\Documents\\PowerShell\\Modules\\ImportExcel\\Public\\Read-Excel.ps1:64\r\n",
      "\u001b[96mLine |\r\n",
      "\u001b[96m  64 | \u001b[0m …     $result = \u001b[96mImport-Excel -WorksheetName $sheetname @boundParameters\u001b[0m\r\n",
      "\u001b[96m     | \u001b[91m                 ~~~~~~~~~~~~~~~~~~~~~~~~~~~~~~~~~~~~~~~~~~~~~~~~~~~~~~~\r\n",
      "\u001b[91m\u001b[96m     | \u001b[91mParameter set cannot be resolved using the specified named parameters. One or more\r\n",
      "\u001b[96m     | \u001b[91mparameters issued cannot be used together or an insufficient number of parameters\r\n",
      "\u001b[96m     | \u001b[91mwere provided.\r\n",
      "\u001b[0m\r\n",
      "\u001b[91mImport-Excel: \u001b[0mD:\\OneDrive\\Documents\\PowerShell\\Modules\\ImportExcel\\Public\\Read-Excel.ps1:64\r\n",
      "\u001b[96mLine |\r\n",
      "\u001b[96m  64 | \u001b[0m …     $result = \u001b[96mImport-Excel -WorksheetName $sheetname @boundParameters\u001b[0m\r\n",
      "\u001b[96m     | \u001b[91m                 ~~~~~~~~~~~~~~~~~~~~~~~~~~~~~~~~~~~~~~~~~~~~~~~~~~~~~~~\r\n",
      "\u001b[91m\u001b[96m     | \u001b[91mParameter set cannot be resolved using the specified named parameters. One or more\r\n",
      "\u001b[96m     | \u001b[91mparameters issued cannot be used together or an insufficient number of parameters\r\n",
      "\u001b[96m     | \u001b[91mwere provided.\r\n",
      "\u001b[0m\r\n",
      "\u001b[91mImport-Excel: \u001b[0mD:\\OneDrive\\Documents\\PowerShell\\Modules\\ImportExcel\\Public\\Read-Excel.ps1:64\r\n",
      "\u001b[96mLine |\r\n",
      "\u001b[96m  64 | \u001b[0m …     $result = \u001b[96mImport-Excel -WorksheetName $sheetname @boundParameters\u001b[0m\r\n",
      "\u001b[96m     | \u001b[91m                 ~~~~~~~~~~~~~~~~~~~~~~~~~~~~~~~~~~~~~~~~~~~~~~~~~~~~~~~\r\n",
      "\u001b[91m\u001b[96m     | \u001b[91mParameter set cannot be resolved using the specified named parameters. One or more\r\n",
      "\u001b[96m     | \u001b[91mparameters issued cannot be used together or an insufficient number of parameters\r\n",
      "\u001b[96m     | \u001b[91mwere provided.\r\n",
      "\u001b[0m\r\n",
      "\u001b[91mImport-Excel: \u001b[0mD:\\OneDrive\\Documents\\PowerShell\\Modules\\ImportExcel\\Public\\Read-Excel.ps1:64\r\n",
      "\u001b[96mLine |\r\n",
      "\u001b[96m  64 | \u001b[0m …     $result = \u001b[96mImport-Excel -WorksheetName $sheetname @boundParameters\u001b[0m\r\n",
      "\u001b[96m     | \u001b[91m                 ~~~~~~~~~~~~~~~~~~~~~~~~~~~~~~~~~~~~~~~~~~~~~~~~~~~~~~~\r\n",
      "\u001b[91m\u001b[96m     | \u001b[91mParameter set cannot be resolved using the specified named parameters. One or more\r\n",
      "\u001b[96m     | \u001b[91mparameters issued cannot be used together or an insufficient number of parameters\r\n",
      "\u001b[96m     | \u001b[91mwere provided.\r\n",
      "\u001b[0m\r\n",
      "\u001b[91mImport-Excel: \u001b[0mD:\\OneDrive\\Documents\\PowerShell\\Modules\\ImportExcel\\Public\\Read-Excel.ps1:64\r\n",
      "\u001b[96mLine |\r\n",
      "\u001b[96m  64 | \u001b[0m …     $result = \u001b[96mImport-Excel -WorksheetName $sheetname @boundParameters\u001b[0m\r\n",
      "\u001b[96m     | \u001b[91m                 ~~~~~~~~~~~~~~~~~~~~~~~~~~~~~~~~~~~~~~~~~~~~~~~~~~~~~~~\r\n",
      "\u001b[91m\u001b[96m     | \u001b[91mParameter set cannot be resolved using the specified named parameters. One or more\r\n",
      "\u001b[96m     | \u001b[91mparameters issued cannot be used together or an insufficient number of parameters\r\n",
      "\u001b[96m     | \u001b[91mwere provided.\r\n",
      "\u001b[0m\r\n",
      "\u001b[91mImport-Excel: \u001b[0mD:\\OneDrive\\Documents\\PowerShell\\Modules\\ImportExcel\\Public\\Read-Excel.ps1:64\r\n",
      "\u001b[96mLine |\r\n",
      "\u001b[96m  64 | \u001b[0m …     $result = \u001b[96mImport-Excel -WorksheetName $sheetname @boundParameters\u001b[0m\r\n",
      "\u001b[96m     | \u001b[91m                 ~~~~~~~~~~~~~~~~~~~~~~~~~~~~~~~~~~~~~~~~~~~~~~~~~~~~~~~\r\n",
      "\u001b[91m\u001b[96m     | \u001b[91mParameter set cannot be resolved using the specified named parameters. One or more\r\n",
      "\u001b[96m     | \u001b[91mparameters issued cannot be used together or an insufficient number of parameters\r\n",
      "\u001b[96m     | \u001b[91mwere provided.\r\n",
      "\u001b[0m\r\n"
     ]
    }
   ],
   "source": [
    "$result = Get-ChildItem .\\salesData | Read-Excel -AsHashtable"
   ]
  }
 ],
 "metadata": {
  "kernelspec": {
   "display_name": ".NET (PowerShell)",
   "language": "PowerShell",
   "name": ".net-pwsh"
  },
  "language_info": {
   "name": "PowerShell"
  }
 },
 "nbformat": 4,
 "nbformat_minor": 2
}
